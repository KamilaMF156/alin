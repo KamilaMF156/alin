{
  "cells": [
    {
      "cell_type": "markdown",
      "metadata": {
        "id": "G_P-ldkKz6kL"
      },
      "source": [
        "# Aplikasi dari Aljabar Linier dengan PageRank\n",
        "\n",
        "Algoritma PageRank diperkenalkan oleh Lary Page, salah satu pendiri Google, dan pertama kali digunakan untuk menentukan peringkat halaman web di mesin pencari Google. Saat ini, algoritma PageRank semakin banyak digunakan di berbagai bidang, misalnya dalam memberi peringkat pengguna di media sosial, dll."
      ]
    },
    {
      "cell_type": "markdown",
      "metadata": {
        "id": "LkdoljHF72i6"
      },
      "source": [
        "## Algoritma PageRank\n",
        "Jika kita membuat halaman web *i* dan menyertakan tautan link ke halaman web *j* , ini berarti kita menganggap *j* penting dan relevan dengan topik kita. Jika ada banyak halaman yang tertaut ke *j* , berarti ada anggapan umum bahwa halaman *j* itu penting. Sebaliknya, jika *j* hanya memiliki satu backlink, namun berasal dari situs resmi *k* , (seperti www.google.com) kita katakan bahwa *k* mentransfer *otoritas*nya ke *j*. Dengan kata lain, *k* menegaskan bahwa *j* itu penting.\n",
        "\n",
        "Dalam graph berarah, node diwakili oleh halaman web dan edgenya diwakili oleh tautan link di antara web-web. Seperti pada contoh di bawah ini."
      ]
    },
    {
      "cell_type": "code",
      "execution_count": 2,
      "metadata": {
        "colab": {
          "base_uri": "https://localhost:8080/",
          "height": 406
        },
        "id": "covVY_tND7kb",
        "outputId": "79e1426f-3dd7-4321-f27c-f284a2fd8029"
      },
      "outputs": [
        {
          "data": {
            "image/png": "[encoded data removed]",
            "text/plain": [
              "<Figure size 640x480 with 1 Axes>"
            ]
          },
          "metadata": {},
          "output_type": "display_data"
        }
      ],
      "source": [
        "import numpy as np\n",
        "import networkx as nx\n",
        "import matplotlib.pyplot as plt\n",
        "\n",
        "G = nx.DiGraph()\n",
        "nodes = np.arange(0, 5).tolist()\n",
        "G.add_nodes_from(nodes)\n",
        "G.add_edges_from([(0,2),(0,3),(0,4),(1, 4),(2, 1),(2, 3),(3,1),(4,0),(4,1),(4,2)])\n",
        "pos = {0:(10, 10),\n",
        " 1:(7.5, 7.5), 2:(12.5, 7.5),\n",
        " 3:(9, 9), 4:(9, 6)}\n",
        "labels = {0:'0',\n",
        " 1:'1', 2: '2',\n",
        " 3: '3', 4: '4'}\n",
        "nx.draw_networkx(G, pos = pos, labels = labels, arrows = True, node_shape = 's', node_color = 'white')\n",
        "plt.show()"
      ]
    },
    {
      "cell_type": "markdown",
      "metadata": {
        "id": "EhUdYY1VeHfS"
      },
      "source": [
        "Berikut adalah algoritma PageRank:\n",
        "\n",
        "1. Misalkan ada empat halaman web: 0, 1, 2, 3, dan 4.\n",
        "2. PageRank diinisialisasi ke nilai yang sama untuk semua halaman. Dalam bentuk asli PageRank, jumlah PageRank di semua halaman adalah jumlah total halaman web pada saat itu, jadi setiap halaman dalam contoh ini akan memiliki nilai awal 1. Namun, versi PageRank selanjutnya, dan sisa bagian ini, mengasumsikan distribusi probabilitas antara 0 dan 1. Oleh karena itu, nilai awal untuk setiap halaman dalam contoh ini adalah 0,2.\n",
        "3. PageRank yang ditransfer dari suatu halaman ke target tautan keluarnya pada iterasi berikutnya dibagi sama rata di antara semua tautan keluar.\n",
        "4. PageRank yang diberikan oleh tautan keluar sama dengan skor PageRank dokumen itu sendiri dibagi dengan jumlah tautan keluar $L$.\n",
        "5. Langkah-langkah mungkin memerlukan beberapa iterasi untuk mendapatkan nilai PageRank yang akurat."
      ]
    },
    {
      "cell_type": "markdown",
      "metadata": {
        "id": "fBJzr1Gu747z"
      },
      "source": [
        "## Contoh Pengerjaan\n",
        "\n",
        "$ A =\n",
        " \\begin{bmatrix}\n",
        "  0 & 0 & 0 & 0 & \\frac{1}{3}\\\\\n",
        "  0 & 0 & \\frac{1}{2} & 1 & \\frac{1}{3}\\\\\n",
        "  \\frac{1}{3} & 0 & 0 & 0 & \\frac{1}{3}\\\\\n",
        "  \\frac{1}{3} & 0 & \\frac{1}{2} & 0 & 0\\\\\n",
        "  \\frac{1}{3} & 1 & 0 & 0 & 0\n",
        " \\end{bmatrix},\n",
        "$\n",
        "$ X_0 =\n",
        " \\begin{bmatrix}\n",
        "  \\frac{1}{5}\\\\\n",
        "  \\frac{1}{5}\\\\\n",
        "  \\frac{1}{5}\\\\\n",
        "  \\frac{1}{5}\\\\\n",
        "  \\frac{1}{5}\n",
        " \\end{bmatrix}\n",
        "$\n",
        "\n",
        "<br>\n",
        "\n",
        "Menghasilkan $X_1$ dimana $X_1=AX_0$\n",
        "\n",
        "$ X_1 =\n",
        " \\begin{bmatrix}\n",
        "  0 & 0 & 0 & 0 & \\frac{1}{3}\\\\\n",
        "  0 & 0 & \\frac{1}{2} & 1 & \\frac{1}{3}\\\\\n",
        "  \\frac{1}{3} & 0 & 0 & 0 & \\frac{1}{3}\\\\\n",
        "  \\frac{1}{3} & 0 & \\frac{1}{2} & 0 & 0\\\\\n",
        "  \\frac{1}{3} & 1 & 0 & 0 & 0\n",
        " \\end{bmatrix}\n",
        " \\begin{bmatrix}\n",
        "  \\frac{1}{5}\\\\\n",
        "  \\frac{1}{5}\\\\\n",
        "  \\frac{1}{5}\\\\\n",
        "  \\frac{1}{5}\\\\\n",
        "  \\frac{1}{5}\n",
        " \\end{bmatrix}\n",
        "$\n",
        "$=\n",
        " \\begin{bmatrix}\n",
        "  0.06666667\\\\\n",
        "  0.36666667\\\\\n",
        "  0.13333333\\\\\n",
        "  0.16666667\\\\\n",
        "  0.26666667\n",
        " \\end{bmatrix}\n",
        "$\n",
        "\n",
        "<br>\n",
        "\n",
        "Terdapat batasan(a) dimana a < 0.01. Maksudnya, jika $|V_{i+1}-V_i|$ < 0.01, maka dari $V_i+1$ sudah bisa ditentukan peringkatnya yang didasarkan angka tertinggi menduduki peringkat pertama.\n",
        "\n",
        "Cara menghitungnya yaitu:<br>\n",
        "$(0.06666667-0.2)^2+(0.36666667-0.2)^2+(0.13333333-0.2)^2+(0.16666667-0.2)^2+(0.26666667-0.2)^2 = 0.05555555555555557$\n",
        "\n",
        "<br><br>\n",
        "\n",
        "Namun penghitungan di atas belum memenuhi batasannya. Maka akan ada vektor baru lagi yang merupakan perkalian dari vektor sebelumna dengan matriks A. Jika sudah memenuhi batasan, maka bisa ditarik kesimpulan.<br><br>\n",
        "\n",
        "$ X_2 =\n",
        " \\begin{bmatrix}\n",
        "  0 & 0 & 0 & 0 & \\frac{1}{3}\\\\\n",
        "  0 & 0 & \\frac{1}{2} & 1 & \\frac{1}{3}\\\\\n",
        "  \\frac{1}{3} & 0 & 0 & 0 & \\frac{1}{3}\\\\\n",
        "  \\frac{1}{3} & 0 & \\frac{1}{2} & 0 & 0\\\\\n",
        "  \\frac{1}{3} & 1 & 0 & 0 & 0\n",
        " \\end{bmatrix}\n",
        " \\begin{bmatrix}\n",
        "  0.06666667\\\\\n",
        "  0.36666667\\\\\n",
        "  0.13333333\\\\\n",
        "  0.16666667\\\\\n",
        "  0.26666667\n",
        " \\end{bmatrix}\n",
        "$\n",
        "$=\n",
        " \\begin{bmatrix}\n",
        "  0.08888889\\\\\n",
        "  0.32222222\\\\\n",
        "  0.11111111\\\\\n",
        "  0.08888889\\\\\n",
        "  0.38888889\n",
        " \\end{bmatrix}\n",
        "$\n",
        "\n",
        "$(0.08888889-0.2)^2+(0.32222222-0.2)^2+(0.11111111-0.2)^2+(0.08888889-0.2)^2+(0.38888889-0.2)^2 = 0.023950617283950627 < 0.01$ (tidak memenuhi)\n",
        "\n",
        "<br><br>\n",
        "\n",
        "$ X_3 =\n",
        " \\begin{bmatrix}\n",
        "  0 & 0 & 0 & 0 & \\frac{1}{3}\\\\\n",
        "  0 & 0 & \\frac{1}{2} & 1 & \\frac{1}{3}\\\\\n",
        "  \\frac{1}{3} & 0 & 0 & 0 & \\frac{1}{3}\\\\\n",
        "  \\frac{1}{3} & 0 & \\frac{1}{2} & 0 & 0\\\\\n",
        "  \\frac{1}{3} & 1 & 0 & 0 & 0\n",
        " \\end{bmatrix}\n",
        " \\begin{bmatrix}\n",
        "  0.08888889\\\\\n",
        "  0.32222222\\\\\n",
        "  0.11111111\\\\\n",
        "  0.08888889\\\\\n",
        "  0.38888889\n",
        " \\end{bmatrix}\n",
        "$\n",
        "$=\n",
        " \\begin{bmatrix}\n",
        "  0.12962963\\\\\n",
        "  0.27407407\\\\\n",
        "  0.15925926\\\\\n",
        "  0.08518519\\\\\n",
        "  0.35185185\n",
        " \\end{bmatrix}\n",
        "$\n",
        "\n",
        "$(0.12962963-0.2)^2+(0.27407407-0.2)^2+(0.15925926-0.2)^2+(0.08518519-0.2)^2+(0.35185185-0.2)^2 = 0.007681755829903978 < 0.01$ (memenuhi)\n",
        "\n",
        "<br><br>\n",
        "\n",
        "Maka dari vektor terakhir, dapat disimpulkan bahwa web 4 berada di peringkat teratas dan web 3 berada di peringkat terendah."
      ]
    },
    {
      "cell_type": "markdown",
      "metadata": {
        "id": "Z0uzif6778i2"
      },
      "source": [
        "## Kode Python dan Numpy"
      ]
    },
    {
      "cell_type": "code",
      "execution_count": 2,
      "metadata": {
        "colab": {
          "base_uri": "https://localhost:8080/"
        },
        "id": "G0OVP7Vz8jaZ",
        "outputId": "0f8648ee-1c9e-44ca-93dd-fc2a7faa0f12"
      },
      "outputs": [
        {
          "name": "stdout",
          "output_type": "stream",
          "text": [
            "Matriks A =\n",
            "[[0.         0.         0.         0.         0.33333333]\n",
            " [0.         0.         0.5        1.         0.33333333]\n",
            " [0.33333333 0.         0.         0.         0.33333333]\n",
            " [0.33333333 0.         0.5        0.         0.        ]\n",
            " [0.33333333 1.         0.         0.         0.        ]]\n",
            "\n",
            "V0\n",
            "[[0.2]\n",
            " [0.2]\n",
            " [0.2]\n",
            " [0.2]\n",
            " [0.2]]\n",
            "\n",
            "V1\n",
            "[[0.06666667]\n",
            " [0.36666667]\n",
            " [0.13333333]\n",
            " [0.16666667]\n",
            " [0.26666667]]\n",
            "\n",
            "0.05555555555555557 < 0.01\n",
            "\n",
            "V2\n",
            "[[0.08888889]\n",
            " [0.32222222]\n",
            " [0.11111111]\n",
            " [0.08888889]\n",
            " [0.38888889]]\n",
            "\n",
            "0.023950617283950627 < 0.01\n",
            "\n",
            "V3\n",
            "[[0.12962963]\n",
            " [0.27407407]\n",
            " [0.15925926]\n",
            " [0.08518519]\n",
            " [0.35185185]]\n",
            "\n",
            "0.007681755829903978 < 0.01\n",
            "\n"
          ]
        }
      ],
      "source": [
        "import numpy as np\n",
        "\n",
        "def kondisi(V0, V1):\n",
        "  a = 0\n",
        "  for i in range(0,len(V0)):\n",
        "    a += ((V1[i] - V0[i]) ** 2)\n",
        "  return a[0]\n",
        "\n",
        "def kali(mat, V0, V1):\n",
        "  a = kondisi(V0, V1)\n",
        "  v = 2\n",
        "  print(a, \"< 0.01\")\n",
        "  print()\n",
        "  while a >= 0.01:\n",
        "    new = np.dot(mat, V1)\n",
        "    a = kondisi(V1, new)\n",
        "    print(f\"V{v}\")\n",
        "    print(new)\n",
        "    print()\n",
        "    print(a, \"< 0.01\")\n",
        "    print()\n",
        "    V1 = new\n",
        "    v+=1\n",
        "\n",
        "A = np.array([[0,0,0,0,1/3],[0,0,1/2,1,1/3],[1/3,0,0,0,1/3],[1/3,0,1/2,0,0],[1/3,1,0,0,0]])\n",
        "print(\"Matriks A =\")\n",
        "print(A)\n",
        "print()\n",
        "V0 = np.array([[1/5],[1/5],[1/5],[1/5],[1/5]])\n",
        "print(\"V0\")\n",
        "print(V0)\n",
        "print()\n",
        "V1 = A @ V0\n",
        "print(\"V1\")\n",
        "print(V1)\n",
        "print()\n",
        "\n",
        "kali(A, V0, V1)"
      ]
    }
  ],
  "metadata": {
    "colab": {
      "provenance": []
    },
    "kernelspec": {
      "display_name": "Python 3 (ipykernel)",
      "language": "python",
      "name": "python3"
    }
  },
  "nbformat": 4,
  "nbformat_minor": 0
}
